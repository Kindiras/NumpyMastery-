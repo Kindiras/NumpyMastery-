{
 "cells": [
  {
   "cell_type": "code",
   "execution_count": 1,
   "id": "2e908f04",
   "metadata": {},
   "outputs": [],
   "source": [
    "import numpy as np"
   ]
  },
  {
   "cell_type": "code",
   "execution_count": 2,
   "id": "dff65687",
   "metadata": {},
   "outputs": [
    {
     "name": "stdout",
     "output_type": "stream",
     "text": [
      "<class 'numpy.ndarray'>\n"
     ]
    }
   ],
   "source": [
    "# Create list baseball\n",
    "baseball = [180, 215, 210, 210, 188, 176, 209, 200]\n",
    "\n",
    "# Create a numpy array from baseball: np_baseball\n",
    "np_baseball = np.array(baseball)\n",
    "\n",
    "# Print out type of np_baseball\n",
    "print(type(np_baseball))"
   ]
  },
  {
   "cell_type": "code",
   "execution_count": 3,
   "id": "6db1052b",
   "metadata": {},
   "outputs": [
    {
     "name": "stdout",
     "output_type": "stream",
     "text": [
      "[180 215 210 210 188 176 209 200]\n"
     ]
    }
   ],
   "source": [
    "print(np_baseball)"
   ]
  },
  {
   "cell_type": "code",
   "execution_count": 5,
   "id": "b5865d23",
   "metadata": {},
   "outputs": [],
   "source": [
    "height_in = [100,20,30,60,78,90]"
   ]
  },
  {
   "cell_type": "code",
   "execution_count": 8,
   "id": "a26b8917",
   "metadata": {},
   "outputs": [],
   "source": [
    "weight_lb = [300,40,80,45,78,98]"
   ]
  },
  {
   "cell_type": "code",
   "execution_count": 9,
   "id": "a603fb49",
   "metadata": {},
   "outputs": [
    {
     "name": "stdout",
     "output_type": "stream",
     "text": [
      "[100  20  30  60  78  90]\n",
      "[2.54   0.508  0.762  1.524  1.9812 2.286 ]\n"
     ]
    }
   ],
   "source": [
    "# height_in is available as a regular list\n",
    "\n",
    "# Import numpy\n",
    "import numpy as np\n",
    "\n",
    "# Create a numpy array from height_in: np_height_in\n",
    "\n",
    "np_height_in = np.array(height_in)\n",
    "# Print out np_height_in\n",
    "\n",
    "print(np_height_in)\n",
    "# Convert np_height_in to m: np_height_m\n",
    "np_height_m = np_height_in*2.54/100\n",
    "\n",
    "# Print np_height_m\n",
    "print(np_height_m)"
   ]
  },
  {
   "cell_type": "code",
   "execution_count": 10,
   "id": "8e4d2ad2",
   "metadata": {},
   "outputs": [
    {
     "name": "stdout",
     "output_type": "stream",
     "text": [
      "[21.09207018 70.30690061 62.49502277  8.78836258  9.01370521  8.50626699]\n"
     ]
    }
   ],
   "source": [
    "# height_in and weight_lb are available as regular lists\n",
    "\n",
    "# Import numpy\n",
    "import numpy as np\n",
    "\n",
    "# Create array from height_in with metric units: np_height_m\n",
    "np_height_m = np.array(height_in) * 0.0254\n",
    "\n",
    "# Create array from weight_lb with metric units: np_weight_kg\n",
    "np_weight_kg = np.array(weight_lb)*0.453592\n",
    "\n",
    "# Calculate the BMI: bmi\n",
    "\n",
    "bmi = np_weight_kg/np_height_m**2\n",
    "# Print out bmi\n",
    "print(bmi)"
   ]
  },
  {
   "cell_type": "code",
   "execution_count": 11,
   "id": "d2eacf5a",
   "metadata": {},
   "outputs": [
    {
     "name": "stdout",
     "output_type": "stream",
     "text": [
      "[False False False  True  True  True]\n",
      "[8.78836258 9.01370521 8.50626699]\n"
     ]
    }
   ],
   "source": [
    "# height_in and weight_lb are available as a regular lists\n",
    "\n",
    "# Import numpy\n",
    "import numpy as np\n",
    "\n",
    "# Calculate the BMI: bmi\n",
    "np_height_m = np.array(height_in) * 0.0254\n",
    "np_weight_kg = np.array(weight_lb) * 0.453592\n",
    "bmi = np_weight_kg / np_height_m ** 2\n",
    "\n",
    "# Create the light array\n",
    "light = bmi < 21\n",
    "\n",
    "# Print out light\n",
    "print(light)\n",
    "\n",
    "# Print out BMIs of all baseball players whose BMI is below 21\n",
    "print(bmi[light])"
   ]
  },
  {
   "cell_type": "code",
   "execution_count": 12,
   "id": "851f1520",
   "metadata": {},
   "outputs": [
    {
     "data": {
      "text/plain": [
       "array([4, 5, 2])"
      ]
     },
     "execution_count": 12,
     "metadata": {},
     "output_type": "execute_result"
    }
   ],
   "source": [
    "np.array([True, 1, 2]) + np.array([3, 4, False])"
   ]
  },
  {
   "cell_type": "code",
   "execution_count": 15,
   "id": "7abab6d4",
   "metadata": {},
   "outputs": [
    {
     "name": "stdout",
     "output_type": "stream",
     "text": [
      "<class 'numpy.ndarray'>\n",
      "(4, 2)\n"
     ]
    }
   ],
   "source": [
    "# Create baseball, a list of lists\n",
    "baseball = [[180, 78.4],\n",
    "            [215, 102.7],\n",
    "            [210, 98.5],\n",
    "            [188, 75.2]]\n",
    "\n",
    "# Import numpy\n",
    "import numpy as np\n",
    "\n",
    "# Create a 2D numpy array from baseball: np_baseball\n",
    "np_baseball = np.array(baseball)\n",
    "\n",
    "# Print out the type of np_baseball\n",
    "\n",
    "print(type(np_baseball))\n",
    "# Print out the shape of np_baseball\n",
    "print(np_baseball.shape)"
   ]
  },
  {
   "cell_type": "code",
   "execution_count": 16,
   "id": "21252005",
   "metadata": {},
   "outputs": [
    {
     "data": {
      "text/plain": [
       "[[[74, 60, 20],\n",
       "  [90, 68, 26],\n",
       "  [80, 63, 55],\n",
       "  [78, 67, 30],\n",
       "  [82, 72, 28],\n",
       "  [83, 82, 31]]]"
      ]
     },
     "execution_count": 16,
     "metadata": {},
     "output_type": "execute_result"
    }
   ],
   "source": [
    "#lets make a list of 3 columns having weight, height, and ages\n",
    "baseball = [[[74, 60,20],[90,68,26],[80,63,55],[78,67,30],[82,72,28],[83,82,31]]]\n",
    "baseball"
   ]
  },
  {
   "cell_type": "code",
   "execution_count": 18,
   "id": "fa727897",
   "metadata": {},
   "outputs": [
    {
     "data": {
      "text/plain": [
       "[[[2, 1, 1], [2, 1, 1], [2, 1, 1], [2, 1, 1], [2, 1, 1], [2, 1, 1]]]"
      ]
     },
     "execution_count": 18,
     "metadata": {},
     "output_type": "execute_result"
    }
   ],
   "source": [
    "updated =[[[2, 1,1],[2, 1,1],[2, 1,1],[2, 1,1],[2, 1,1],[2, 1,1]]]\n",
    "updated"
   ]
  },
  {
   "cell_type": "code",
   "execution_count": 19,
   "id": "f85e19a0",
   "metadata": {},
   "outputs": [
    {
     "data": {
      "text/plain": [
       "array([[[76, 61, 21],\n",
       "        [92, 69, 27],\n",
       "        [82, 64, 56],\n",
       "        [80, 68, 31],\n",
       "        [84, 73, 29],\n",
       "        [85, 83, 32]]])"
      ]
     },
     "execution_count": 19,
     "metadata": {},
     "output_type": "execute_result"
    }
   ],
   "source": [
    "np_baseball = np.array(baseball)+np.array(updated)\n",
    "np_baseball"
   ]
  },
  {
   "cell_type": "code",
   "execution_count": 20,
   "id": "66ea2c08",
   "metadata": {},
   "outputs": [
    {
     "data": {
      "text/plain": [
       "array([0.0254  , 0.453592, 1.      ])"
      ]
     },
     "execution_count": 20,
     "metadata": {},
     "output_type": "execute_result"
    }
   ],
   "source": [
    "#convert them into kg,m and age remains same\n",
    "conversion = np.array([0.0254, 0.453592, 1])\n",
    "conversion"
   ]
  },
  {
   "cell_type": "code",
   "execution_count": 21,
   "id": "912d3f08",
   "metadata": {},
   "outputs": [
    {
     "data": {
      "text/plain": [
       "array([[[ 1.9304  , 27.669112, 21.      ],\n",
       "        [ 2.3368  , 31.297848, 27.      ],\n",
       "        [ 2.0828  , 29.029888, 56.      ],\n",
       "        [ 2.032   , 30.844256, 31.      ],\n",
       "        [ 2.1336  , 33.112216, 29.      ],\n",
       "        [ 2.159   , 37.648136, 32.      ]]])"
      ]
     },
     "execution_count": 21,
     "metadata": {},
     "output_type": "execute_result"
    }
   ],
   "source": [
    "np_baseball_conversion = np_baseball*conversion\n",
    "np_baseball_conversion"
   ]
  },
  {
   "cell_type": "markdown",
   "id": "c91ea42c",
   "metadata": {},
   "source": [
    "# numpy statistics"
   ]
  },
  {
   "cell_type": "code",
   "execution_count": 22,
   "id": "8b95f0ec",
   "metadata": {},
   "outputs": [
    {
     "data": {
      "text/plain": [
       "array([[ 1.35, 70.43],\n",
       "       [ 1.66, 47.88],\n",
       "       [ 1.24, 66.74],\n",
       "       ...,\n",
       "       [ 1.76, 73.75],\n",
       "       [ 1.88, 52.98],\n",
       "       [ 1.84, 70.19]])"
      ]
     },
     "execution_count": 22,
     "metadata": {},
     "output_type": "execute_result"
    }
   ],
   "source": [
    "#Numbers of samples\n",
    "height = np.round(np.random.normal(1.7,0.2,5000),2)\n",
    "weight = np.round(np.random.normal(65,20,5000),2)\n",
    "np_baseball = np.column_stack((height,weight))\n",
    "np_baseball"
   ]
  },
  {
   "cell_type": "code",
   "execution_count": 25,
   "id": "df3ae00e",
   "metadata": {},
   "outputs": [
    {
     "data": {
      "text/plain": [
       "1.697532"
      ]
     },
     "execution_count": 25,
     "metadata": {},
     "output_type": "execute_result"
    }
   ],
   "source": [
    "np.mean(np_baseball[:,0])\n"
   ]
  },
  {
   "cell_type": "code",
   "execution_count": 26,
   "id": "6aaa1978",
   "metadata": {},
   "outputs": [
    {
     "data": {
      "text/plain": [
       "1.69"
      ]
     },
     "execution_count": 26,
     "metadata": {},
     "output_type": "execute_result"
    }
   ],
   "source": [
    "np.median(np_baseball[:,0])"
   ]
  },
  {
   "cell_type": "code",
   "execution_count": 28,
   "id": "d912ea52",
   "metadata": {},
   "outputs": [
    {
     "data": {
      "text/plain": [
       "0.19820037582204528"
      ]
     },
     "execution_count": 28,
     "metadata": {},
     "output_type": "execute_result"
    }
   ],
   "source": [
    "np.std(np_baseball[:,0])"
   ]
  },
  {
   "cell_type": "code",
   "execution_count": 30,
   "id": "a63b6af4",
   "metadata": {},
   "outputs": [
    {
     "data": {
      "text/plain": [
       "1.0"
      ]
     },
     "execution_count": 30,
     "metadata": {},
     "output_type": "execute_result"
    }
   ],
   "source": [
    "np.corrcoef(np_baseball[:,0])"
   ]
  },
  {
   "cell_type": "code",
   "execution_count": null,
   "id": "a634582a",
   "metadata": {},
   "outputs": [],
   "source": []
  }
 ],
 "metadata": {
  "kernelspec": {
   "display_name": "Python 3 (ipykernel)",
   "language": "python",
   "name": "python3"
  },
  "language_info": {
   "codemirror_mode": {
    "name": "ipython",
    "version": 3
   },
   "file_extension": ".py",
   "mimetype": "text/x-python",
   "name": "python",
   "nbconvert_exporter": "python",
   "pygments_lexer": "ipython3",
   "version": "3.9.13"
  }
 },
 "nbformat": 4,
 "nbformat_minor": 5
}
